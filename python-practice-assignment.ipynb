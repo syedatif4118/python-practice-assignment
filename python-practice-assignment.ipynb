{
 "cells": [
  {
   "cell_type": "markdown",
   "metadata": {
    "id": "CdYMufxLw3Kr"
   },
   "source": [
    "# Assignment 1 - Python Basics Practice\n",
    "\n",
    "*This assignment is a part of the course [\"Data Analysis with Python: Zero to Pandas\"](https://jovian.ml/learn/data-analysis-with-python-zero-to-pandas)*\n",
    "\n",
    "In this assignment, you'll get to practice some of the concepts and skills covered in the following notebooks:\n",
    "\n",
    "1. [First Steps with Python and Jupyter](https://jovian.ml/aakashns/first-steps-with-python)\n",
    "2. [A Quick Tour of Variables and Data Types](https://jovian.ml/aakashns/python-variables-and-data-types)\n",
    "3. [Branching using Conditional Statements and Loops](https://jovian.ml/aakashns/python-branching-and-loops)\n",
    "\n",
    "\n",
    "As you go through this notebook, you will find the symbol **???** in certain places. To complete this assignment, you must replace all the **???** with appropriate values, expressions or statements to ensure that the notebook runs properly end-to-end. \n",
    "\n",
    "**Guidelines**\n",
    "\n",
    "1. Make sure to run all the code cells, otherwise you may get errors like `NameError` for undefined variables.\n",
    "2. Do not change variable names, delete cells or disturb other existing code. It may cause problems during evaluation.\n",
    "3. In some cases, you may need to add some code cells or new statements before or after the line of code containing the **???**. \n",
    "4. Since you'll be using a free online service for code execution, save your work by running `jovian.commit` at regular intervals.\n",
    "5. Questions marked **(Optional)** will not be considered for evaluation, and can be skipped. They are for your learning.\n",
    "6. If you are stuck, you can ask for help on the course forum. Post errors, ask for hints and help others, but **please don't share the full solution answer code** to give others a chance to write the code themselves.\n",
    "7. After submission your code will be tested with some hidden test cases. Make sure to test your code exhaustively to cover all edge cases.\n",
    "\n",
    "\n",
    "Important Links:\n",
    "\n",
    "* Make submissions here: https://jovian.ml/learn/data-analysis-with-python-zero-to-pandas/assignment/assignment-1-python-basics-practice\n",
    "\n",
    "* Get help on the community forum: https://jovian.ml/forum/t/assignment-1-python-practice/7761 . You can get help with errors or ask for hints, but **please don't ask for or share the full working answer code** on the forum.\n"
   ]
  },
  {
   "cell_type": "markdown",
   "metadata": {
    "id": "D7Oc26jzw3Kw"
   },
   "source": [
    "### How to Run the Code and Save Your Work\n",
    "\n",
    "**Option 1: Running using free online resources (1-click, recommended)**: Click the **Run** button at the top of this page and select **Run on Binder**. You can also select \"Run on Colab\" or \"Run on Kaggle\", but you'll need to create an account on [Google Colab](https://colab.research.google.com) or [Kaggle](https://kaggle.com) to use these platforms.\n",
    "\n",
    "\n",
    "**Option 2: Running on your computer locally**: To run the code on your computer locally, you'll need to set up [Python](https://www.python.org) & [Conda](https://docs.conda.io/projects/conda/en/latest/user-guide/install/), download the notebook and install the required libraries. Click the **Run** button at the top of this page, select the **Run Locally** option, and follow the instructions.\n",
    "\n",
    "**Saving your work**: You can save a snapshot of the assignment to your [Jovian](https://jovian.ai) profile, so that you can access it later and continue your work. Keep saving your work by running `jovian.commit` from time to time."
   ]
  },
  {
   "cell_type": "code",
   "execution_count": null,
   "metadata": {
    "id": "0kb1wIXrw3Kz"
   },
   "outputs": [],
   "source": [
    "# Install the library\n",
    "!pip install jovian --upgrade --quiet"
   ]
  },
  {
   "cell_type": "code",
   "execution_count": null,
   "metadata": {
    "id": "ITAtzDIzw3K2"
   },
   "outputs": [],
   "source": [
    "# Import it\n",
    "import jovian"
   ]
  },
  {
   "cell_type": "code",
   "execution_count": null,
   "metadata": {
    "id": "eoKjYIGuw3K4"
   },
   "outputs": [],
   "source": [
    "project_name='python-practice-assignment'"
   ]
  },
  {
   "cell_type": "code",
   "execution_count": null,
   "metadata": {
    "colab": {
     "base_uri": "https://localhost:8080/",
     "height": 122
    },
    "executionInfo": {
     "elapsed": 23601,
     "status": "ok",
     "timestamp": 1629383279114,
     "user": {
      "displayName": "Syed Atif",
      "photoUrl": "https://lh3.googleusercontent.com/a-/AOh14Gijy0H6X_fb5gV6iXEf3gfUlW7IhmW5DoTVmaA8hw=s64",
      "userId": "02215579649076969447"
     },
     "user_tz": -330
    },
    "id": "fNM6A9R4w3K6",
    "outputId": "b56216ca-5414-4d58-ccb2-7131ae14f2f5"
   },
   "outputs": [
    {
     "name": "stdout",
     "output_type": "stream",
     "text": [
      "[jovian] Detected Colab notebook...\u001b[0m\n",
      "[jovian] Please enter your API key ( from https://jovian.ai/ ):\u001b[0m\n",
      "API KEY: ··········\n",
      "[jovian] Uploading colab notebook to Jovian...\u001b[0m\n",
      "Committed successfully! https://jovian.ai/syedatif4118/python-practice-assignment\n"
     ]
    },
    {
     "data": {
      "application/vnd.google.colaboratory.intrinsic+json": {
       "type": "string"
      },
      "text/plain": [
       "'https://jovian.ai/syedatif4118/python-practice-assignment'"
      ]
     },
     "execution_count": 36,
     "metadata": {},
     "output_type": "execute_result"
    }
   ],
   "source": [
    "# Capture and upload a snapshot\n",
    "jovian.commit(project=project_name, privacy='secret', evironment=None)"
   ]
  },
  {
   "cell_type": "markdown",
   "metadata": {
    "id": "wLg78xKgw3LB"
   },
   "source": [
    "You'll be asked to provide an API Key, to securely upload the notebook to your Jovian.ml account. You can get the API key from your Jovian.ml profile page after logging in / signing up. See the docs for details: https://jovian.ml/docs/user-guide/upload.html . The privacy of your assignment notebook is set to *Secret*, so that you can the evlauators can access it, but it will not shown on your public profile to other users."
   ]
  },
  {
   "cell_type": "markdown",
   "metadata": {
    "id": "FpMBO3aqw3LE"
   },
   "source": [
    "## Problem 1 - Variables and Data Types\n",
    "\n",
    "**Q1: Assign your name to the variable `name`.**"
   ]
  },
  {
   "cell_type": "code",
   "execution_count": null,
   "metadata": {
    "id": "igXt2Gdgw3LJ"
   },
   "outputs": [],
   "source": [
    "name = \"Atif\""
   ]
  },
  {
   "cell_type": "markdown",
   "metadata": {
    "id": "LH1yhSEtw3LL"
   },
   "source": [
    "**Q2: Assign your age (real or fake) to the variable `age`.**"
   ]
  },
  {
   "cell_type": "code",
   "execution_count": null,
   "metadata": {
    "id": "FeiAhTSnw3LM"
   },
   "outputs": [],
   "source": [
    "age = 21"
   ]
  },
  {
   "cell_type": "markdown",
   "metadata": {
    "id": "ESlKaECmw3LO"
   },
   "source": [
    "**Q3: Assign a boolean value to the variable `has_android_phone`.**"
   ]
  },
  {
   "cell_type": "code",
   "execution_count": 91,
   "metadata": {
    "executionInfo": {
     "elapsed": 784,
     "status": "ok",
     "timestamp": 1629385268839,
     "user": {
      "displayName": "Syed Atif",
      "photoUrl": "https://lh3.googleusercontent.com/a-/AOh14Gijy0H6X_fb5gV6iXEf3gfUlW7IhmW5DoTVmaA8hw=s64",
      "userId": "02215579649076969447"
     },
     "user_tz": -330
    },
    "id": "UPoFFJMmw3LQ"
   },
   "outputs": [],
   "source": [
    "has_android_phone = True"
   ]
  },
  {
   "cell_type": "markdown",
   "metadata": {
    "id": "4OF2MH6Xw3LR"
   },
   "source": [
    "You can check the values of these variables by running the next cell."
   ]
  },
  {
   "cell_type": "code",
   "execution_count": 86,
   "metadata": {
    "colab": {
     "base_uri": "https://localhost:8080/"
    },
    "executionInfo": {
     "elapsed": 704,
     "status": "ok",
     "timestamp": 1629385118804,
     "user": {
      "displayName": "Syed Atif",
      "photoUrl": "https://lh3.googleusercontent.com/a-/AOh14Gijy0H6X_fb5gV6iXEf3gfUlW7IhmW5DoTVmaA8hw=s64",
      "userId": "02215579649076969447"
     },
     "user_tz": -330
    },
    "id": "_6ObxkbUw3LR",
    "outputId": "00191ba7-d5bf-46fa-d33b-2196a4273d85"
   },
   "outputs": [
    {
     "data": {
      "text/plain": [
       "('Atif', 21, 'True')"
      ]
     },
     "execution_count": 86,
     "metadata": {},
     "output_type": "execute_result"
    }
   ],
   "source": [
    "name, age, has_android_phone"
   ]
  },
  {
   "cell_type": "markdown",
   "metadata": {
    "id": "YB4siJrAw3LS"
   },
   "source": [
    "**Q4: Create a dictionary `person` with keys `\"Name\"`, `\"Age\"`, `\"HasAndroidPhone\"` and values using the variables defined above.**"
   ]
  },
  {
   "cell_type": "code",
   "execution_count": 95,
   "metadata": {
    "executionInfo": {
     "elapsed": 470,
     "status": "ok",
     "timestamp": 1629385371893,
     "user": {
      "displayName": "Syed Atif",
      "photoUrl": "https://lh3.googleusercontent.com/a-/AOh14Gijy0H6X_fb5gV6iXEf3gfUlW7IhmW5DoTVmaA8hw=s64",
      "userId": "02215579649076969447"
     },
     "user_tz": -330
    },
    "id": "LsvkT0Wkw3LS"
   },
   "outputs": [],
   "source": [
    "person = {\"Name\": \"Atif\",\n",
    "          \"Age\": 21,\n",
    "          \"HasAndroidPhone\":True}"
   ]
  },
  {
   "cell_type": "markdown",
   "metadata": {
    "id": "85KIY8jHw3LU"
   },
   "source": [
    "Let's use the `person` dictionary to print a nice message."
   ]
  },
  {
   "cell_type": "code",
   "execution_count": 94,
   "metadata": {
    "colab": {
     "base_uri": "https://localhost:8080/"
    },
    "executionInfo": {
     "elapsed": 543,
     "status": "ok",
     "timestamp": 1629385367434,
     "user": {
      "displayName": "Syed Atif",
      "photoUrl": "https://lh3.googleusercontent.com/a-/AOh14Gijy0H6X_fb5gV6iXEf3gfUlW7IhmW5DoTVmaA8hw=s64",
      "userId": "02215579649076969447"
     },
     "user_tz": -330
    },
    "id": "fRxhnvtzw3LU",
    "outputId": "a7da9e00-00a4-4dc8-9514-2f8173ca0e60"
   },
   "outputs": [
    {
     "name": "stdout",
     "output_type": "stream",
     "text": [
      "Atif is aged 21, and owns an Android phone.\n"
     ]
    }
   ],
   "source": [
    "print(\"{} is aged {}, and owns an {}.\".format(\n",
    "    person[\"Name\"], \n",
    "    person[\"Age\"], \n",
    "    \"Android phone\" if person[\"HasAndroidPhone\"] else \"iPhone\"\n",
    "))"
   ]
  },
  {
   "cell_type": "markdown",
   "metadata": {
    "id": "RblN_Qbsw3LV"
   },
   "source": [
    "**Q4b (Optional): Use a `for` loop to display the `type` of each value stored against each key in `person`.**\n",
    "\n",
    "Here's the expected output for the key `\"Name\"`: \n",
    "\n",
    "```\n",
    "The key \"Name\" has the value \"Derek\" of the type \"<class 'str'>\"\n",
    "```"
   ]
  },
  {
   "cell_type": "code",
   "execution_count": null,
   "metadata": {
    "id": "qckzbgLew3LX"
   },
   "outputs": [],
   "source": [
    "# this is optional\n",
    "for k,v in person.items():\n",
    "    print(\"The key \\\"{}\\\" has the value \\\"{}\\\" of the type \\\"{}\\\"\".format(k,v,type(v)));"
   ]
  },
  {
   "cell_type": "markdown",
   "metadata": {
    "id": "h4qm2VtTw3LY"
   },
   "source": [
    "Now that you've solved one problem, it would be a good idea to record a snapshot of your notebook."
   ]
  },
  {
   "cell_type": "code",
   "execution_count": 92,
   "metadata": {
    "colab": {
     "base_uri": "https://localhost:8080/",
     "height": 87
    },
    "executionInfo": {
     "elapsed": 2182,
     "status": "ok",
     "timestamp": 1629385274919,
     "user": {
      "displayName": "Syed Atif",
      "photoUrl": "https://lh3.googleusercontent.com/a-/AOh14Gijy0H6X_fb5gV6iXEf3gfUlW7IhmW5DoTVmaA8hw=s64",
      "userId": "02215579649076969447"
     },
     "user_tz": -330
    },
    "id": "H9uSw7Grw3LY",
    "outputId": "dc2d15d0-c789-4728-924e-90371432f3fc"
   },
   "outputs": [
    {
     "name": "stdout",
     "output_type": "stream",
     "text": [
      "[jovian] Detected Colab notebook...\u001b[0m\n",
      "[jovian] Uploading colab notebook to Jovian...\u001b[0m\n",
      "Committed successfully! https://jovian.ai/syedatif4118/python-practice-assignment\n"
     ]
    },
    {
     "data": {
      "application/vnd.google.colaboratory.intrinsic+json": {
       "type": "string"
      },
      "text/plain": [
       "'https://jovian.ai/syedatif4118/python-practice-assignment'"
      ]
     },
     "execution_count": 92,
     "metadata": {},
     "output_type": "execute_result"
    }
   ],
   "source": [
    "jovian.commit(project=project_name,environment=None)"
   ]
  },
  {
   "cell_type": "markdown",
   "metadata": {
    "id": "48rE34VXw3LZ"
   },
   "source": [
    "## Problem 2 - Working with Lists\n",
    "\n",
    "**Q5: Create a list containing the following 3 elements:**\n",
    "\n",
    "* your favorite color\n",
    "* the number of pets you have\n",
    "* a boolean value describing whether you have previous programming experience\n"
   ]
  },
  {
   "cell_type": "code",
   "execution_count": null,
   "metadata": {
    "id": "1e9dIc6zw3La"
   },
   "outputs": [],
   "source": [
    "my_list = [\"Black\", 0, 'True']"
   ]
  },
  {
   "cell_type": "markdown",
   "metadata": {
    "id": "bTgrDaeFw3La"
   },
   "source": [
    "Let's see what the list looks like:"
   ]
  },
  {
   "cell_type": "code",
   "execution_count": null,
   "metadata": {
    "colab": {
     "base_uri": "https://localhost:8080/"
    },
    "executionInfo": {
     "elapsed": 461,
     "status": "ok",
     "timestamp": 1629383016330,
     "user": {
      "displayName": "Syed Atif",
      "photoUrl": "https://lh3.googleusercontent.com/a-/AOh14Gijy0H6X_fb5gV6iXEf3gfUlW7IhmW5DoTVmaA8hw=s64",
      "userId": "02215579649076969447"
     },
     "user_tz": -330
    },
    "id": "EQIWAwdvw3Lb",
    "outputId": "c12941c6-535d-41cc-85b1-1d736a7d7019"
   },
   "outputs": [
    {
     "data": {
      "text/plain": [
       "['Black', 0, 'True']"
      ]
     },
     "execution_count": 21,
     "metadata": {},
     "output_type": "execute_result"
    }
   ],
   "source": [
    "my_list"
   ]
  },
  {
   "cell_type": "markdown",
   "metadata": {
    "id": "HIZtvetnw3Lb"
   },
   "source": [
    "**Q6: Complete the following `print` and `if` statements by accessing the appropriate elements from `my_list`.**\n",
    "\n",
    "*Hint*: Use the list indexing notation `[]`."
   ]
  },
  {
   "cell_type": "code",
   "execution_count": null,
   "metadata": {
    "colab": {
     "base_uri": "https://localhost:8080/"
    },
    "executionInfo": {
     "elapsed": 1399,
     "status": "ok",
     "timestamp": 1629383043920,
     "user": {
      "displayName": "Syed Atif",
      "photoUrl": "https://lh3.googleusercontent.com/a-/AOh14Gijy0H6X_fb5gV6iXEf3gfUlW7IhmW5DoTVmaA8hw=s64",
      "userId": "02215579649076969447"
     },
     "user_tz": -330
    },
    "id": "TNLQ3f1Gw3Lc",
    "outputId": "fd35cb52-f164-4099-d5bb-0fd89b45f19b"
   },
   "outputs": [
    {
     "name": "stdout",
     "output_type": "stream",
     "text": [
      "My favorite color is Black\n"
     ]
    }
   ],
   "source": [
    "print('My favorite color is', my_list[0])"
   ]
  },
  {
   "cell_type": "code",
   "execution_count": null,
   "metadata": {
    "colab": {
     "base_uri": "https://localhost:8080/"
    },
    "executionInfo": {
     "elapsed": 724,
     "status": "ok",
     "timestamp": 1629383071608,
     "user": {
      "displayName": "Syed Atif",
      "photoUrl": "https://lh3.googleusercontent.com/a-/AOh14Gijy0H6X_fb5gV6iXEf3gfUlW7IhmW5DoTVmaA8hw=s64",
      "userId": "02215579649076969447"
     },
     "user_tz": -330
    },
    "id": "dlEHduADw3Lc",
    "outputId": "fa86ba6e-e763-4d67-d55f-59b354e549b6"
   },
   "outputs": [
    {
     "name": "stdout",
     "output_type": "stream",
     "text": [
      "I have 0 pet(s).\n"
     ]
    }
   ],
   "source": [
    "print('I have {} pet(s).'.format(my_list[1]))"
   ]
  },
  {
   "cell_type": "code",
   "execution_count": null,
   "metadata": {
    "colab": {
     "base_uri": "https://localhost:8080/"
    },
    "executionInfo": {
     "elapsed": 600,
     "status": "ok",
     "timestamp": 1629383102974,
     "user": {
      "displayName": "Syed Atif",
      "photoUrl": "https://lh3.googleusercontent.com/a-/AOh14Gijy0H6X_fb5gV6iXEf3gfUlW7IhmW5DoTVmaA8hw=s64",
      "userId": "02215579649076969447"
     },
     "user_tz": -330
    },
    "id": "lBQs7wX9w3Lc",
    "outputId": "abe2e704-11ac-4fb9-ff6b-2fc494b8ce57"
   },
   "outputs": [
    {
     "name": "stdout",
     "output_type": "stream",
     "text": [
      "I have previous programming experience\n"
     ]
    }
   ],
   "source": [
    "if my_list[2]==\"True\":\n",
    "    print(\"I have previous programming experience\")\n",
    "else:\n",
    "    print(\"I do not have previous programming experience\")"
   ]
  },
  {
   "cell_type": "markdown",
   "metadata": {
    "id": "c7oxVDaHw3Ld"
   },
   "source": [
    "**Q7: Add your favorite single digit number to the end of the list using the appropriate list method.**"
   ]
  },
  {
   "cell_type": "code",
   "execution_count": null,
   "metadata": {
    "id": "Rp3tLk9Bw3Ld"
   },
   "outputs": [],
   "source": [
    "my_list.append(7)"
   ]
  },
  {
   "cell_type": "markdown",
   "metadata": {
    "id": "wSEo75ULw3Ld"
   },
   "source": [
    "Let's see if the number shows up in the list."
   ]
  },
  {
   "cell_type": "code",
   "execution_count": null,
   "metadata": {
    "colab": {
     "base_uri": "https://localhost:8080/"
    },
    "executionInfo": {
     "elapsed": 519,
     "status": "ok",
     "timestamp": 1629383145789,
     "user": {
      "displayName": "Syed Atif",
      "photoUrl": "https://lh3.googleusercontent.com/a-/AOh14Gijy0H6X_fb5gV6iXEf3gfUlW7IhmW5DoTVmaA8hw=s64",
      "userId": "02215579649076969447"
     },
     "user_tz": -330
    },
    "id": "_briyaLuw3Le",
    "outputId": "877b18c2-45f5-4aaa-ad79-7f50e945446e"
   },
   "outputs": [
    {
     "data": {
      "text/plain": [
       "['Black', 0, 'True', 7]"
      ]
     },
     "execution_count": 27,
     "metadata": {},
     "output_type": "execute_result"
    }
   ],
   "source": [
    "my_list"
   ]
  },
  {
   "cell_type": "markdown",
   "metadata": {
    "id": "EXAXhTh4w3Le"
   },
   "source": [
    "**Q8: Remove the first element of the list, using the appropriate list method.**\n",
    "\n",
    "*Hint*: Check out methods of list here: https://www.w3schools.com/python/python_ref_list.asp"
   ]
  },
  {
   "cell_type": "code",
   "execution_count": null,
   "metadata": {
    "colab": {
     "base_uri": "https://localhost:8080/",
     "height": 35
    },
    "executionInfo": {
     "elapsed": 524,
     "status": "ok",
     "timestamp": 1629383160025,
     "user": {
      "displayName": "Syed Atif",
      "photoUrl": "https://lh3.googleusercontent.com/a-/AOh14Gijy0H6X_fb5gV6iXEf3gfUlW7IhmW5DoTVmaA8hw=s64",
      "userId": "02215579649076969447"
     },
     "user_tz": -330
    },
    "id": "V6WoB7dow3Le",
    "outputId": "22092561-5b3a-466b-e19a-9536fa035cca"
   },
   "outputs": [
    {
     "data": {
      "application/vnd.google.colaboratory.intrinsic+json": {
       "type": "string"
      },
      "text/plain": [
       "'Black'"
      ]
     },
     "execution_count": 28,
     "metadata": {},
     "output_type": "execute_result"
    }
   ],
   "source": [
    "my_list.pop(0)"
   ]
  },
  {
   "cell_type": "code",
   "execution_count": null,
   "metadata": {
    "colab": {
     "base_uri": "https://localhost:8080/"
    },
    "executionInfo": {
     "elapsed": 620,
     "status": "ok",
     "timestamp": 1629383165092,
     "user": {
      "displayName": "Syed Atif",
      "photoUrl": "https://lh3.googleusercontent.com/a-/AOh14Gijy0H6X_fb5gV6iXEf3gfUlW7IhmW5DoTVmaA8hw=s64",
      "userId": "02215579649076969447"
     },
     "user_tz": -330
    },
    "id": "ZjxSv8tgw3Lf",
    "outputId": "59afc390-f85f-4ea3-e9b6-9c902d177b89"
   },
   "outputs": [
    {
     "data": {
      "text/plain": [
       "[0, 'True', 7]"
      ]
     },
     "execution_count": 29,
     "metadata": {},
     "output_type": "execute_result"
    }
   ],
   "source": [
    "my_list"
   ]
  },
  {
   "cell_type": "markdown",
   "metadata": {
    "id": "qNKaBEtGw3Lf"
   },
   "source": [
    "**Q9: Complete the `print` statement below to display the number of elements in `my_list`.**"
   ]
  },
  {
   "cell_type": "code",
   "execution_count": null,
   "metadata": {
    "colab": {
     "base_uri": "https://localhost:8080/"
    },
    "executionInfo": {
     "elapsed": 623,
     "status": "ok",
     "timestamp": 1629383190449,
     "user": {
      "displayName": "Syed Atif",
      "photoUrl": "https://lh3.googleusercontent.com/a-/AOh14Gijy0H6X_fb5gV6iXEf3gfUlW7IhmW5DoTVmaA8hw=s64",
      "userId": "02215579649076969447"
     },
     "user_tz": -330
    },
    "id": "rf4eq3mUw3Lf",
    "outputId": "ece35e25-519f-4b71-e5c3-745364ff04d0"
   },
   "outputs": [
    {
     "name": "stdout",
     "output_type": "stream",
     "text": [
      "The list has 3 elements.\n"
     ]
    }
   ],
   "source": [
    "print(\"The list has {} elements.\".format(len(my_list)))"
   ]
  },
  {
   "cell_type": "markdown",
   "metadata": {
    "id": "1stkFsNOw3Lf"
   },
   "source": [
    "Well done, you're making good progress! Save your work before continuing"
   ]
  },
  {
   "cell_type": "code",
   "execution_count": null,
   "metadata": {
    "colab": {
     "base_uri": "https://localhost:8080/",
     "height": 87
    },
    "executionInfo": {
     "elapsed": 3808,
     "status": "ok",
     "timestamp": 1629383297897,
     "user": {
      "displayName": "Syed Atif",
      "photoUrl": "https://lh3.googleusercontent.com/a-/AOh14Gijy0H6X_fb5gV6iXEf3gfUlW7IhmW5DoTVmaA8hw=s64",
      "userId": "02215579649076969447"
     },
     "user_tz": -330
    },
    "id": "BwN6tGBpw3Lg",
    "outputId": "9770a739-2eb1-4113-81af-788215fccc1c"
   },
   "outputs": [
    {
     "name": "stdout",
     "output_type": "stream",
     "text": [
      "[jovian] Detected Colab notebook...\u001b[0m\n",
      "[jovian] Uploading colab notebook to Jovian...\u001b[0m\n",
      "Committed successfully! https://jovian.ai/syedatif4118/python-practice-assignment\n"
     ]
    },
    {
     "data": {
      "application/vnd.google.colaboratory.intrinsic+json": {
       "type": "string"
      },
      "text/plain": [
       "'https://jovian.ai/syedatif4118/python-practice-assignment'"
      ]
     },
     "execution_count": 37,
     "metadata": {},
     "output_type": "execute_result"
    }
   ],
   "source": [
    "jovian.commit(project=project_name,environment=None)"
   ]
  },
  {
   "cell_type": "markdown",
   "metadata": {
    "id": "ZgrVEJRNw3Lg"
   },
   "source": [
    "## Problem 3 - Conditions and loops\n",
    "\n",
    "**Q10: Calculate and display the sum of all the numbers divisible by 7 between 18 and 534 i.e. `21+28+35+...+525+532`**.\n",
    "\n",
    "*Hint*: One way to do this is to loop over a `range` using `for` and use an `if` statement inside it."
   ]
  },
  {
   "cell_type": "code",
   "execution_count": null,
   "metadata": {
    "colab": {
     "base_uri": "https://localhost:8080/"
    },
    "executionInfo": {
     "elapsed": 555,
     "status": "ok",
     "timestamp": 1629383550635,
     "user": {
      "displayName": "Syed Atif",
      "photoUrl": "https://lh3.googleusercontent.com/a-/AOh14Gijy0H6X_fb5gV6iXEf3gfUlW7IhmW5DoTVmaA8hw=s64",
      "userId": "02215579649076969447"
     },
     "user_tz": -330
    },
    "id": "iuUZ9_91w3Lh",
    "outputId": "fcc6a2b3-dc69-4e9c-ace2-6829e23560bf"
   },
   "outputs": [
    {
     "name": "stdout",
     "output_type": "stream",
     "text": [
      "20461\n"
     ]
    }
   ],
   "source": [
    "# store the final answer in this variable\n",
    "sum_of_numbers = 0\n",
    "\n",
    "\n",
    "# perform the calculation here\n",
    "for i in range(18,534):\n",
    "  if i%7==0:\n",
    "    sum_of_numbers+=i\n",
    "print(sum_of_numbers)  "
   ]
  },
  {
   "cell_type": "code",
   "execution_count": null,
   "metadata": {
    "colab": {
     "base_uri": "https://localhost:8080/"
    },
    "executionInfo": {
     "elapsed": 533,
     "status": "ok",
     "timestamp": 1629383559252,
     "user": {
      "displayName": "Syed Atif",
      "photoUrl": "https://lh3.googleusercontent.com/a-/AOh14Gijy0H6X_fb5gV6iXEf3gfUlW7IhmW5DoTVmaA8hw=s64",
      "userId": "02215579649076969447"
     },
     "user_tz": -330
    },
    "id": "OWEvs0mBw3Lh",
    "outputId": "5f85c88c-0172-4f29-8698-e66805d0148d"
   },
   "outputs": [
    {
     "name": "stdout",
     "output_type": "stream",
     "text": [
      "The sum of all the numbers divisible by 7 between 18 and 534 is 20461\n"
     ]
    }
   ],
   "source": [
    "print('The sum of all the numbers divisible by 7 between 18 and 534 is', sum_of_numbers)"
   ]
  },
  {
   "cell_type": "markdown",
   "metadata": {
    "id": "IecsxLBKw3Li"
   },
   "source": [
    "If you are not able to figure out the solution to this problem, you can ask for hints on the community forum: https://jovian.ml/forum/t/assignment-1-python-practice/7761 . Remember to save your work before moving forward."
   ]
  },
  {
   "cell_type": "code",
   "execution_count": null,
   "metadata": {
    "colab": {
     "base_uri": "https://localhost:8080/",
     "height": 87
    },
    "executionInfo": {
     "elapsed": 2856,
     "status": "ok",
     "timestamp": 1629383569602,
     "user": {
      "displayName": "Syed Atif",
      "photoUrl": "https://lh3.googleusercontent.com/a-/AOh14Gijy0H6X_fb5gV6iXEf3gfUlW7IhmW5DoTVmaA8hw=s64",
      "userId": "02215579649076969447"
     },
     "user_tz": -330
    },
    "id": "YxtQckK7w3Li",
    "outputId": "5c55650a-2aa0-401d-e01a-71cbe06659ff"
   },
   "outputs": [
    {
     "name": "stdout",
     "output_type": "stream",
     "text": [
      "[jovian] Detected Colab notebook...\u001b[0m\n",
      "[jovian] Uploading colab notebook to Jovian...\u001b[0m\n",
      "Committed successfully! https://jovian.ai/syedatif4118/python-practice-assignment\n"
     ]
    },
    {
     "data": {
      "application/vnd.google.colaboratory.intrinsic+json": {
       "type": "string"
      },
      "text/plain": [
       "'https://jovian.ai/syedatif4118/python-practice-assignment'"
      ]
     },
     "execution_count": 43,
     "metadata": {},
     "output_type": "execute_result"
    }
   ],
   "source": [
    "jovian.commit(project=project_name,environment=None)"
   ]
  },
  {
   "cell_type": "markdown",
   "metadata": {
    "id": "0UysHEJEw3Lk"
   },
   "source": [
    "## Problem 4 - Flying to the Bahamas\n",
    "\n",
    "**Q11: A travel company wants to fly a plane to the Bahamas. Flying the plane costs 5000 dollars. So far, 29 people have signed up for the trip. If the company charges 200 dollars per ticket, what is the profit made by the company?**\n",
    "\n",
    "Fill in values or arithmetic expressions for the variables below."
   ]
  },
  {
   "cell_type": "code",
   "execution_count": null,
   "metadata": {
    "id": "pqQU0LGww3Ll"
   },
   "outputs": [],
   "source": [
    "cost_of_flying_plane = 5000"
   ]
  },
  {
   "cell_type": "code",
   "execution_count": null,
   "metadata": {
    "id": "ByNkjcOww3Ll"
   },
   "outputs": [],
   "source": [
    "number_of_passengers = 29"
   ]
  },
  {
   "cell_type": "code",
   "execution_count": null,
   "metadata": {
    "id": "MWq380wIw3Ll"
   },
   "outputs": [],
   "source": [
    "price_of_ticket = 200"
   ]
  },
  {
   "cell_type": "code",
   "execution_count": null,
   "metadata": {
    "id": "CYsnTCO-w3Lm"
   },
   "outputs": [],
   "source": [
    "profit = number_of_passengers*price_of_ticket-cost_of_flying_plane"
   ]
  },
  {
   "cell_type": "code",
   "execution_count": null,
   "metadata": {
    "colab": {
     "base_uri": "https://localhost:8080/"
    },
    "executionInfo": {
     "elapsed": 10,
     "status": "ok",
     "timestamp": 1629383701535,
     "user": {
      "displayName": "Syed Atif",
      "photoUrl": "https://lh3.googleusercontent.com/a-/AOh14Gijy0H6X_fb5gV6iXEf3gfUlW7IhmW5DoTVmaA8hw=s64",
      "userId": "02215579649076969447"
     },
     "user_tz": -330
    },
    "id": "8Cg0_9jgw3Ln",
    "outputId": "4231df3a-5911-44f8-84ef-c0c35edee296"
   },
   "outputs": [
    {
     "name": "stdout",
     "output_type": "stream",
     "text": [
      "The company makes of a profit of 800 dollars\n"
     ]
    }
   ],
   "source": [
    "print('The company makes of a profit of {} dollars'.format(profit))"
   ]
  },
  {
   "cell_type": "markdown",
   "metadata": {
    "id": "4-GdUqsiw3Ln"
   },
   "source": [
    "**Q11b (Optional): Out of the 29 people who took the flight, only 12 buy tickets to return from the Bahamas on the same plane. If the flying the plane back also costs 5000 dollars, and does the company make an overall profit or loss? The company charges the same fee of 200 dollars per ticket for the return flight.**\n",
    "\n",
    "Use an `if` statement to display the result."
   ]
  },
  {
   "cell_type": "code",
   "execution_count": null,
   "metadata": {
    "id": "81ifU4yRw3Ln"
   },
   "outputs": [],
   "source": [
    "# this is optional\n",
    "tickets_bought=12\n",
    "overallcost = profit + (tickets_bought*price_of_ticket - cost_of_flying_plane)"
   ]
  },
  {
   "cell_type": "code",
   "execution_count": null,
   "metadata": {
    "colab": {
     "base_uri": "https://localhost:8080/"
    },
    "executionInfo": {
     "elapsed": 448,
     "status": "ok",
     "timestamp": 1629384013294,
     "user": {
      "displayName": "Syed Atif",
      "photoUrl": "https://lh3.googleusercontent.com/a-/AOh14Gijy0H6X_fb5gV6iXEf3gfUlW7IhmW5DoTVmaA8hw=s64",
      "userId": "02215579649076969447"
     },
     "user_tz": -330
    },
    "id": "yCp7zu2qw3Lo",
    "outputId": "1dd9c262-88ab-416c-d1bf-7994930e20eb"
   },
   "outputs": [
    {
     "name": "stdout",
     "output_type": "stream",
     "text": [
      "The company makes an overall loss of -1800 dollars\n"
     ]
    }
   ],
   "source": [
    "# this is optional\n",
    "if overallcost>0:\n",
    "    print(\"The company makes an overall profit of {} dollars\".format(overallcost))\n",
    "else:\n",
    "    print(\"The company makes an overall loss of {} dollars\".format(overallcost))"
   ]
  },
  {
   "cell_type": "markdown",
   "metadata": {
    "id": "cO4wcbXAw3Lo"
   },
   "source": [
    "Great work so far! Want to take a break? Remember to save and upload your notebook to record your progress."
   ]
  },
  {
   "cell_type": "code",
   "execution_count": null,
   "metadata": {
    "colab": {
     "base_uri": "https://localhost:8080/",
     "height": 87
    },
    "executionInfo": {
     "elapsed": 2945,
     "status": "ok",
     "timestamp": 1629384024325,
     "user": {
      "displayName": "Syed Atif",
      "photoUrl": "https://lh3.googleusercontent.com/a-/AOh14Gijy0H6X_fb5gV6iXEf3gfUlW7IhmW5DoTVmaA8hw=s64",
      "userId": "02215579649076969447"
     },
     "user_tz": -330
    },
    "id": "JCSYrdJuw3Lo",
    "outputId": "fa1dea05-9fd6-44f2-ba52-fcd8859b8b74"
   },
   "outputs": [
    {
     "name": "stdout",
     "output_type": "stream",
     "text": [
      "[jovian] Detected Colab notebook...\u001b[0m\n",
      "[jovian] Uploading colab notebook to Jovian...\u001b[0m\n",
      "Committed successfully! https://jovian.ai/syedatif4118/python-practice-assignment\n"
     ]
    },
    {
     "data": {
      "application/vnd.google.colaboratory.intrinsic+json": {
       "type": "string"
      },
      "text/plain": [
       "'https://jovian.ai/syedatif4118/python-practice-assignment'"
      ]
     },
     "execution_count": 55,
     "metadata": {},
     "output_type": "execute_result"
    }
   ],
   "source": [
    "jovian.commit(project=project_name,environment=None)"
   ]
  },
  {
   "cell_type": "markdown",
   "metadata": {
    "id": "mbX2_r-ow3Lp"
   },
   "source": [
    "## Problem 5 - Twitter Sentiment Analysis\n",
    "\n",
    "Are your ready to perform some *Data Analysis with Python*? In this problem, we'll analyze some fictional tweets and find out whether the overall sentiment of Twitter users is happy or sad. This is a simplified version of an important real world problem called *sentiment analysis*.\n",
    "\n",
    "Before we begin, we need a list of tweets to analyze. We're picking a small number of tweets here, but the exact same analysis can also be done for thousands, or even millions of tweets. The collection of data that we perform analysis on is often called a *dataset*."
   ]
  },
  {
   "cell_type": "code",
   "execution_count": null,
   "metadata": {
    "id": "_O8Ji4Vaw3Lp"
   },
   "outputs": [],
   "source": [
    "tweets = [\n",
    "    \"Wow, what a great day today!! #sunshine\",\n",
    "    \"I feel sad about the things going on around us. #covid19\",\n",
    "    \"I'm really excited to learn Python with @JovianML #zerotopandas\",\n",
    "    \"This is a really nice song. #linkinpark\",\n",
    "    \"The python programming language is useful for data science\",\n",
    "    \"Why do bad things happen to me?\",\n",
    "    \"Apple announces the release of the new iPhone 12. Fans are excited.\",\n",
    "    \"Spent my day with family!! #happy\",\n",
    "    \"Check out my blog post on common string operations in Python. #zerotopandas\",\n",
    "    \"Freecodecamp has great coding tutorials. #skillup\"\n",
    "]"
   ]
  },
  {
   "cell_type": "markdown",
   "metadata": {
    "id": "Wj41emM1w3Lq"
   },
   "source": [
    "Let's begin by answering a very simple but important question about our dataset.\n",
    "\n",
    "**Q12: How many tweets does the dataset contain?**"
   ]
  },
  {
   "cell_type": "code",
   "execution_count": null,
   "metadata": {
    "id": "2Z2SdL4fw3Lq"
   },
   "outputs": [],
   "source": [
    "number_of_tweets = len(tweets)"
   ]
  },
  {
   "cell_type": "markdown",
   "metadata": {
    "id": "cpqxQafpw3Lr"
   },
   "source": [
    "Let's create two lists of words: `happy_words` and `sad_words`. We will use these to check if a tweet is happy or sad."
   ]
  },
  {
   "cell_type": "code",
   "execution_count": null,
   "metadata": {
    "id": "jNifpd2Xw3Lr"
   },
   "outputs": [],
   "source": [
    "happy_words = ['great', 'excited', 'happy', 'nice', 'wonderful', 'amazing', 'good', 'best']"
   ]
  },
  {
   "cell_type": "code",
   "execution_count": null,
   "metadata": {
    "id": "8pQXj1Bew3Lr"
   },
   "outputs": [],
   "source": [
    "sad_words = ['sad', 'bad', 'tragic', 'unhappy', 'worst']"
   ]
  },
  {
   "cell_type": "markdown",
   "metadata": {
    "id": "oy-Ck6Xxw3Ls"
   },
   "source": [
    "To identify whether a tweet is happy, we can simply check if contains any of the words from `happy_words`. Here's an example:"
   ]
  },
  {
   "cell_type": "code",
   "execution_count": null,
   "metadata": {
    "id": "jgxEgl2aw3Ls"
   },
   "outputs": [],
   "source": [
    "sample_tweet = tweets[0]"
   ]
  },
  {
   "cell_type": "code",
   "execution_count": null,
   "metadata": {
    "colab": {
     "base_uri": "https://localhost:8080/",
     "height": 35
    },
    "executionInfo": {
     "elapsed": 502,
     "status": "ok",
     "timestamp": 1629384139311,
     "user": {
      "displayName": "Syed Atif",
      "photoUrl": "https://lh3.googleusercontent.com/a-/AOh14Gijy0H6X_fb5gV6iXEf3gfUlW7IhmW5DoTVmaA8hw=s64",
      "userId": "02215579649076969447"
     },
     "user_tz": -330
    },
    "id": "vZgWVIAGw3Ls",
    "outputId": "7abef76a-ba5a-41c2-f536-c95fa0774690"
   },
   "outputs": [
    {
     "data": {
      "application/vnd.google.colaboratory.intrinsic+json": {
       "type": "string"
      },
      "text/plain": [
       "'Wow, what a great day today!! #sunshine'"
      ]
     },
     "execution_count": 63,
     "metadata": {},
     "output_type": "execute_result"
    }
   ],
   "source": [
    "sample_tweet"
   ]
  },
  {
   "cell_type": "code",
   "execution_count": null,
   "metadata": {
    "id": "WIozoaVIw3Ls"
   },
   "outputs": [],
   "source": [
    "is_tweet_happy = False\n",
    "\n",
    "# Get a word from happy_words\n",
    "for word in happy_words:\n",
    "    # Check if the tweet contains the word\n",
    "    if word in sample_tweet:\n",
    "        # Word found! Mark the tweet as happy\n",
    "        is_tweet_happy = True"
   ]
  },
  {
   "cell_type": "markdown",
   "metadata": {
    "id": "OL1O4GWow3Lt"
   },
   "source": [
    "Do you understand what we're doing above? \n",
    "\n",
    "> For each word in the list of happy words, we check if is a part of the selected tweet. If the word is indded a part of the tweet, we set the variable `is_tweet_happy` to `True`. "
   ]
  },
  {
   "cell_type": "code",
   "execution_count": null,
   "metadata": {
    "colab": {
     "base_uri": "https://localhost:8080/"
    },
    "executionInfo": {
     "elapsed": 464,
     "status": "ok",
     "timestamp": 1629384161437,
     "user": {
      "displayName": "Syed Atif",
      "photoUrl": "https://lh3.googleusercontent.com/a-/AOh14Gijy0H6X_fb5gV6iXEf3gfUlW7IhmW5DoTVmaA8hw=s64",
      "userId": "02215579649076969447"
     },
     "user_tz": -330
    },
    "id": "qpNEi1Qrw3Lt",
    "outputId": "26c21b8b-a907-4d41-f45a-d0b16c7cb298"
   },
   "outputs": [
    {
     "data": {
      "text/plain": [
       "True"
      ]
     },
     "execution_count": 65,
     "metadata": {},
     "output_type": "execute_result"
    }
   ],
   "source": [
    "is_tweet_happy"
   ]
  },
  {
   "cell_type": "markdown",
   "metadata": {
    "id": "u5DVIC_uw3Lt"
   },
   "source": [
    "**Q13: Determine the number of tweets in the dataset that can be classified as happy.**\n",
    "\n",
    "*Hint*: You'll need to use a loop inside another loop to do this. Use the code from the example shown above."
   ]
  },
  {
   "cell_type": "code",
   "execution_count": null,
   "metadata": {
    "id": "AI6XVvZAw3Lt"
   },
   "outputs": [],
   "source": [
    "# store the final answer in this variable\n",
    "number_of_happy_tweets = 0\n",
    "\n",
    "# perform the calculations here\n",
    "for i in range(0,len(tweets)):\n",
    "    for word in happy_words:\n",
    "        if word in tweets[i]:\n",
    "            is_tweet_happy = True\n",
    "            number_of_happy_tweets+=1"
   ]
  },
  {
   "cell_type": "code",
   "execution_count": null,
   "metadata": {
    "colab": {
     "base_uri": "https://localhost:8080/"
    },
    "executionInfo": {
     "elapsed": 515,
     "status": "ok",
     "timestamp": 1629384247908,
     "user": {
      "displayName": "Syed Atif",
      "photoUrl": "https://lh3.googleusercontent.com/a-/AOh14Gijy0H6X_fb5gV6iXEf3gfUlW7IhmW5DoTVmaA8hw=s64",
      "userId": "02215579649076969447"
     },
     "user_tz": -330
    },
    "id": "2tXHISmJw3Lt",
    "outputId": "8f435469-385c-48e3-ea2d-f62213222e76"
   },
   "outputs": [
    {
     "name": "stdout",
     "output_type": "stream",
     "text": [
      "Number of happy tweets: 6\n"
     ]
    }
   ],
   "source": [
    "print(\"Number of happy tweets:\", number_of_happy_tweets)"
   ]
  },
  {
   "cell_type": "markdown",
   "metadata": {
    "id": "5ncGqM3Jw3Lu"
   },
   "source": [
    "If you are not able to figure out the solution to this problem, you can ask for hints on the community forum: https://jovian.ml/forum/t/assignment-1-python-practice/7761 . Also try adding `print` statements inside your loops to inspect variables and make sure your logic is correct."
   ]
  },
  {
   "cell_type": "markdown",
   "metadata": {
    "id": "VX6Hq4yDw3Lu"
   },
   "source": [
    "**Q14: What fraction of the total number of tweets are happy?**\n",
    "\n",
    "For example, if 2 out of 10 tweets are happy, then the answer is `2/10` i.e. `0.2`."
   ]
  },
  {
   "cell_type": "code",
   "execution_count": null,
   "metadata": {
    "id": "ctvGHVCaw3Lu"
   },
   "outputs": [],
   "source": [
    "happy_fraction = number_of_happy_tweets/len(tweets)"
   ]
  },
  {
   "cell_type": "code",
   "execution_count": null,
   "metadata": {
    "colab": {
     "base_uri": "https://localhost:8080/"
    },
    "executionInfo": {
     "elapsed": 1064,
     "status": "ok",
     "timestamp": 1629384327400,
     "user": {
      "displayName": "Syed Atif",
      "photoUrl": "https://lh3.googleusercontent.com/a-/AOh14Gijy0H6X_fb5gV6iXEf3gfUlW7IhmW5DoTVmaA8hw=s64",
      "userId": "02215579649076969447"
     },
     "user_tz": -330
    },
    "id": "B_llkykPw3Lu",
    "outputId": "f3513415-7f99-4dce-f22d-93ba32b7f361"
   },
   "outputs": [
    {
     "name": "stdout",
     "output_type": "stream",
     "text": [
      "The fraction of happy tweets is: 0.6\n"
     ]
    }
   ],
   "source": [
    "print(\"The fraction of happy tweets is:\", happy_fraction)"
   ]
  },
  {
   "cell_type": "markdown",
   "metadata": {
    "id": "YBw0_ZYuw3Lv"
   },
   "source": [
    "To identify whether a tweet is sad, we can simply check if contains any of the words from `sad_words`.\n",
    "\n",
    "**Q15: Determine the number of tweets in the dataset that can be classified as sad.**"
   ]
  },
  {
   "cell_type": "code",
   "execution_count": null,
   "metadata": {
    "id": "8p98Obzdw3Lv"
   },
   "outputs": [],
   "source": [
    "# store the final answer in this variable\n",
    "number_of_sad_tweets = 0\n",
    "\n",
    "# perform the calculations here\n",
    "for i in range(0, len(tweets)):\n",
    "  for word in sad_words:\n",
    "    if word in tweets[i]:\n",
    "      is_tweet_happy=False\n",
    "      number_of_sad_tweets+=1"
   ]
  },
  {
   "cell_type": "code",
   "execution_count": null,
   "metadata": {
    "colab": {
     "base_uri": "https://localhost:8080/"
    },
    "executionInfo": {
     "elapsed": 471,
     "status": "ok",
     "timestamp": 1629384469112,
     "user": {
      "displayName": "Syed Atif",
      "photoUrl": "https://lh3.googleusercontent.com/a-/AOh14Gijy0H6X_fb5gV6iXEf3gfUlW7IhmW5DoTVmaA8hw=s64",
      "userId": "02215579649076969447"
     },
     "user_tz": -330
    },
    "id": "VwrXWWJjw3Lv",
    "outputId": "ff1f714c-5459-4681-870c-d3da793db47f"
   },
   "outputs": [
    {
     "name": "stdout",
     "output_type": "stream",
     "text": [
      "Number of sad tweets: 2\n"
     ]
    }
   ],
   "source": [
    "print(\"Number of sad tweets:\", number_of_sad_tweets)"
   ]
  },
  {
   "cell_type": "markdown",
   "metadata": {
    "id": "8js0XpKew3Lw"
   },
   "source": [
    "**Q16: What fraction of the total number of tweets are sad?**"
   ]
  },
  {
   "cell_type": "code",
   "execution_count": null,
   "metadata": {
    "id": "f4gb0j0aw3Lw"
   },
   "outputs": [],
   "source": [
    "sad_fraction = number_of_sad_tweets/len(tweets)"
   ]
  },
  {
   "cell_type": "code",
   "execution_count": null,
   "metadata": {
    "colab": {
     "base_uri": "https://localhost:8080/"
    },
    "executionInfo": {
     "elapsed": 483,
     "status": "ok",
     "timestamp": 1629384510131,
     "user": {
      "displayName": "Syed Atif",
      "photoUrl": "https://lh3.googleusercontent.com/a-/AOh14Gijy0H6X_fb5gV6iXEf3gfUlW7IhmW5DoTVmaA8hw=s64",
      "userId": "02215579649076969447"
     },
     "user_tz": -330
    },
    "id": "XlljZbsCw3Lx",
    "outputId": "f3ef4a59-641b-4ef6-b544-e1e6d3e327c2"
   },
   "outputs": [
    {
     "name": "stdout",
     "output_type": "stream",
     "text": [
      "The fraction of sad tweets is: 0.2\n"
     ]
    }
   ],
   "source": [
    "print(\"The fraction of sad tweets is:\", sad_fraction)"
   ]
  },
  {
   "cell_type": "markdown",
   "metadata": {
    "id": "cKUInJNtw3Lx"
   },
   "source": [
    "The rest of this problem is optional. Let's save your work before continuing."
   ]
  },
  {
   "cell_type": "code",
   "execution_count": null,
   "metadata": {
    "colab": {
     "base_uri": "https://localhost:8080/",
     "height": 87
    },
    "executionInfo": {
     "elapsed": 3122,
     "status": "ok",
     "timestamp": 1629384515912,
     "user": {
      "displayName": "Syed Atif",
      "photoUrl": "https://lh3.googleusercontent.com/a-/AOh14Gijy0H6X_fb5gV6iXEf3gfUlW7IhmW5DoTVmaA8hw=s64",
      "userId": "02215579649076969447"
     },
     "user_tz": -330
    },
    "id": "N3D_O8Now3Lx",
    "outputId": "cbb4cf0a-7497-47e8-f049-ad6c52223a7c"
   },
   "outputs": [
    {
     "name": "stdout",
     "output_type": "stream",
     "text": [
      "[jovian] Detected Colab notebook...\u001b[0m\n",
      "[jovian] Uploading colab notebook to Jovian...\u001b[0m\n",
      "Committed successfully! https://jovian.ai/syedatif4118/python-practice-assignment\n"
     ]
    },
    {
     "data": {
      "application/vnd.google.colaboratory.intrinsic+json": {
       "type": "string"
      },
      "text/plain": [
       "'https://jovian.ai/syedatif4118/python-practice-assignment'"
      ]
     },
     "execution_count": 76,
     "metadata": {},
     "output_type": "execute_result"
    }
   ],
   "source": [
    "jovian.commit(project=project_name,environment=None)"
   ]
  },
  {
   "cell_type": "markdown",
   "metadata": {
    "id": "c9TFTDYOw3Ly"
   },
   "source": [
    "Great work, even with some basic analysis, we already know a lot about the sentiment of the tweets given to us. Let us now define a metric called \"sentiment score\", to summarize the overall sentiment of the tweets.\n",
    "\n",
    "**Q16b (Optional): Calculate the sentiment score, which is defined as the difference betweek the fraction of happy tweets and the fraction of sad tweets.**"
   ]
  },
  {
   "cell_type": "code",
   "execution_count": null,
   "metadata": {
    "id": "LDl39ks5w3Ly"
   },
   "outputs": [],
   "source": [
    "sentiment_score = happy_fraction-sad_fraction"
   ]
  },
  {
   "cell_type": "code",
   "execution_count": null,
   "metadata": {
    "colab": {
     "base_uri": "https://localhost:8080/"
    },
    "executionInfo": {
     "elapsed": 27,
     "status": "ok",
     "timestamp": 1629384562056,
     "user": {
      "displayName": "Syed Atif",
      "photoUrl": "https://lh3.googleusercontent.com/a-/AOh14Gijy0H6X_fb5gV6iXEf3gfUlW7IhmW5DoTVmaA8hw=s64",
      "userId": "02215579649076969447"
     },
     "user_tz": -330
    },
    "id": "cARZ6BnMw3Ly",
    "outputId": "9117db5d-73d4-4d0e-fa41-2836e86db3fe"
   },
   "outputs": [
    {
     "name": "stdout",
     "output_type": "stream",
     "text": [
      "The sentiment score for the given tweets is 0.39999999999999997\n"
     ]
    }
   ],
   "source": [
    "print(\"The sentiment score for the given tweets is\", sentiment_score)"
   ]
  },
  {
   "cell_type": "markdown",
   "metadata": {
    "id": "HjnJMKEAw3Lz"
   },
   "source": [
    "In a real world scenario, we could calculate & record the sentiment score for all the tweets sent out every day. This information can be used to plot a graph and study the trends in the changing sentiment of the world. The following graph was creating using the Python data visualization library `matplotlib`, which we'll cover later in the course.\n",
    "\n",
    "<img src=\"https://i.imgur.com/6CCIwCb.png\" style=\"width:400px\">\n",
    "\n",
    "What does the sentiment score represent? Based on the value of the sentiment score, can you identify if the overall sentiment of the dataset is happy or sad?\n",
    "\n",
    "**Q16c (Optional): Display whether the overall sentiment of the given dataset of tweets is happy or sad, using the sentiment score.**"
   ]
  },
  {
   "cell_type": "code",
   "execution_count": null,
   "metadata": {
    "colab": {
     "base_uri": "https://localhost:8080/"
    },
    "executionInfo": {
     "elapsed": 535,
     "status": "ok",
     "timestamp": 1629384613321,
     "user": {
      "displayName": "Syed Atif",
      "photoUrl": "https://lh3.googleusercontent.com/a-/AOh14Gijy0H6X_fb5gV6iXEf3gfUlW7IhmW5DoTVmaA8hw=s64",
      "userId": "02215579649076969447"
     },
     "user_tz": -330
    },
    "id": "gDOnuY0yw3L0",
    "outputId": "dd8f75ca-4e62-434c-f5d6-0af457428725"
   },
   "outputs": [
    {
     "name": "stdout",
     "output_type": "stream",
     "text": [
      "The overall sentiment is happy\n"
     ]
    }
   ],
   "source": [
    "if sentiment_score>0:\n",
    "    print(\"The overall sentiment is happy\")\n",
    "else:\n",
    "    print(\"The overall sentiment is sad\")"
   ]
  },
  {
   "cell_type": "markdown",
   "metadata": {
    "id": "OGnCGUYEw3L0"
   },
   "source": [
    "Finally, it's also important to track how many tweets are neutral i.e. neither happy nor sad. If a large fraction of tweets are marked neutral, maybe we need to improve our lists of happy and sad words. \n",
    "\n",
    "**Q16d (Optional): What is the fraction of tweets that are neutral i.e. neither happy nor sad.**"
   ]
  },
  {
   "cell_type": "code",
   "execution_count": null,
   "metadata": {
    "id": "MPIZx2vPw3L0"
   },
   "outputs": [],
   "source": [
    "# store the final answer in this variable\n",
    "number_of_neutral_tweets = 0\n",
    "\n",
    "# perform the calculation here\n",
    "number_of_neutral_tweets = len(tweets) - number_of_happy_tweets -  number_of_sad_tweets"
   ]
  },
  {
   "cell_type": "code",
   "execution_count": null,
   "metadata": {
    "id": "PCpzN0Rqw3L1"
   },
   "outputs": [],
   "source": [
    "neutral_fraction = number_of_neutral_tweets/len(tweets)"
   ]
  },
  {
   "cell_type": "code",
   "execution_count": null,
   "metadata": {
    "id": "8MBwkM3Kw3L1"
   },
   "outputs": [],
   "source": [
    "print('The fraction of neutral tweets is', neutral_fraction)"
   ]
  },
  {
   "cell_type": "markdown",
   "metadata": {
    "id": "krrpTgHYw3L1"
   },
   "source": [
    "Ponder upon these questions and try some experiments to hone your skills further:\n",
    "\n",
    "* What are the limitations of our approach? When will it go wrong or give incorrect results?\n",
    "* How can we improve our approach to address the limitations?\n",
    "* What are some other questions you would like to ask, given a list of tweets?\n",
    "* Try collecting some real tweets from your Twitter timeline and repeat this analysis. Do the results make sense?\n",
    "\n",
    "**IMPORTANT NOTE**: If you want to try out these experiments, please create a new notebook using the \"New Notebook\" button on your Jovian.ml profile, to avoid making unintended changes to your assignment submission notebook."
   ]
  },
  {
   "cell_type": "markdown",
   "metadata": {
    "id": "hfAidpaNw3L1"
   },
   "source": [
    "## Submission \n",
    "\n",
    "Congratulations on making it this far! You've reached the end of this assignment, and you just completed your first data analysis problem. It's time to record one final version of your notebook for submission.\n",
    "\n",
    "Make a submission here by filling the submission form: https://jovian.ml/learn/data-analysis-with-python-zero-to-pandas/assignment/assignment-1-python-basics-practice"
   ]
  },
  {
   "cell_type": "code",
   "execution_count": null,
   "metadata": {
    "id": "BUBsO2e5w3L2",
    "scrolled": false
   },
   "outputs": [],
   "source": [
    "jovian.commit(project=project_name,environment=None)"
   ]
  }
 ],
 "metadata": {
  "colab": {
   "name": "python-practice-assignment.ipynb",
   "provenance": []
  },
  "language_info": {
   "codemirror_mode": {
    "name": "ipython",
    "version": 3
   },
   "file_extension": ".py",
   "mimetype": "text/x-python",
   "name": "python",
   "nbconvert_exporter": "python",
   "pygments_lexer": "ipython3",
   "version": "3.6.13"
  }
 },
 "nbformat": 4,
 "nbformat_minor": 0
}